{
 "cells": [
  {
   "cell_type": "code",
   "execution_count": 1,
   "metadata": {},
   "outputs": [],
   "source": [
    "from bs4 import BeautifulSoup\n",
    "from splinter import Browser\n",
    "import pymongo\n",
    "from smtplib import SMTP\n",
    "from email.mime.multipart import MIMEMultipart\n",
    "from email.mime.text import MIMEText"
   ]
  },
  {
   "cell_type": "code",
   "execution_count": 5,
   "metadata": {},
   "outputs": [],
   "source": [
    "#set up executable path for headless browser\n",
    "executable_path = {'executable_path': '/home/brad/Documents/Novel-blurb-NLP/chromedriver'}\n",
    "browser = Browser('chrome', **executable_path)"
   ]
  },
  {
   "cell_type": "code",
   "execution_count": 6,
   "metadata": {},
   "outputs": [],
   "source": [
    "#test url with epic fantasy\n",
    "url = 'https://www.goodreads.com/list/show/50.The_Best_Epic_Fantasy_fiction_'\n",
    "browser.visit(url)"
   ]
  },
  {
   "cell_type": "code",
   "execution_count": 7,
   "metadata": {},
   "outputs": [],
   "source": [
    "html = browser.html\n",
    "blurb_soup = BeautifulSoup(html, 'html.parser')\n",
    "\n",
    "link_test = browser.find_link_by_partial_href('/book/show/')[0]"
   ]
  },
  {
   "cell_type": "code",
   "execution_count": 8,
   "metadata": {
    "scrolled": true
   },
   "outputs": [],
   "source": [
    "link_test.click()\n"
   ]
  },
  {
   "cell_type": "code",
   "execution_count": 2,
   "metadata": {},
   "outputs": [],
   "source": [
    "#mongo connection,\n",
    "conn = 'mongodb://localhost:27017'\n",
    "client = pymongo.MongoClient(conn)"
   ]
  },
  {
   "cell_type": "code",
   "execution_count": 6,
   "metadata": {},
   "outputs": [],
   "source": [
    "db = client.Blurbs\n",
    "collection = db.sci_fi"
   ]
  },
  {
   "cell_type": "code",
   "execution_count": 11,
   "metadata": {},
   "outputs": [],
   "source": [
    "def blurb_scrape(url):\n",
    "    i = 0\n",
    "    executable_path = {'executable_path': '/home/brad/Documents/Novel-blurb-NLP/chromedriver'}\n",
    "    browser = Browser('chrome', **executable_path, headless = True)\n",
    "    for i in range(0, 201, 2):\n",
    "        try:\n",
    "            browser.visit(url)\n",
    "            link = browser.find_link_by_partial_href('/book/show/')[i]\n",
    "            link.click()\n",
    "        \n",
    "            html = browser.html\n",
    "            soup = BeautifulSoup(html, 'html.parser')\n",
    "            div = soup.find('div', class_ = 'readable stacked')\n",
    "            title = soup.find('h1').text\n",
    "            author = soup.find('div', class_ = 'authorName__container').text\n",
    "            blurb = div.find_all('span')\n",
    "        except (AttributeError, IndexError):\n",
    "            browser.back()\n",
    "            continue\n",
    "        if len(blurb) == 2:\n",
    "            post = {\n",
    "                \"title\" : title,\n",
    "                \"author\" : author,\n",
    "                'blurb' : blurb[1].text\n",
    "            }\n",
    "            collection.insert_one(post)\n",
    "            browser.back()\n",
    "        elif len(blurb) == 1:\n",
    "            post = {\n",
    "                \"title\" : title,\n",
    "                \"author\" : author,\n",
    "                'blurb' : blurb[0].text\n",
    "            }\n",
    "            collection.insert_one(post)\n",
    "            browser.back()\n",
    "        else:\n",
    "            browser.back()"
   ]
  },
  {
   "cell_type": "code",
   "execution_count": 8,
   "metadata": {},
   "outputs": [],
   "source": [
    "def loop_scrape(url):\n",
    "    print(\"Loop Start\")\n",
    "    blurb_scrape(url)\n",
    "    executable_path = {'executable_path': '/home/brad/Documents/Novel-blurb-NLP/chromedriver'}\n",
    "    browser = Browser('chrome', **executable_path, headless = True)\n",
    "    browser.visit(url)\n",
    "    browser.is_element_present_by_text('Next', wait_time = 3)\n",
    "    next_elem = browser.find_link_by_partial_text('Next').first\n",
    "    next_elem.click()\n",
    "    new_url = browser.url\n",
    "    browser.quit()\n",
    "    count = 0\n",
    "    while (count < 100):\n",
    "        count += 1\n",
    "        print(f\"Page {count} scraped.\")\n",
    "        try:\n",
    "            blurb_scrape(new_url)\n",
    "            executable_path = {'executable_path': '/home/brad/Documents/Novel-blurb-NLP/chromedriver'}\n",
    "            browser = Browser('chrome', **executable_path, headless = True)\n",
    "            browser.visit(new_url)\n",
    "        \n",
    "            browser.is_element_present_by_text('Next', wait_time = 3)\n",
    "            next_elem = browser.find_link_by_partial_text('Next').first\n",
    "            next_elem.click()\n",
    "            new_url = browser.url\n",
    "            browser.quit()\n",
    "        except:\n",
    "            break\n",
    "  \n",
    "        "
   ]
  },
  {
   "cell_type": "code",
   "execution_count": null,
   "metadata": {},
   "outputs": [
    {
     "name": "stdout",
     "output_type": "stream",
     "text": [
      "Loop Start\n",
      "Page 1 scraped.\n",
      "Page 2 scraped.\n",
      "Page 3 scraped.\n",
      "Page 4 scraped.\n",
      "Page 5 scraped.\n",
      "Page 6 scraped.\n",
      "Page 7 scraped.\n"
     ]
    }
   ],
   "source": [
    "collection = db.sci_fi\n",
    "loop_scrape('https://www.goodreads.com/list/show/19341.Best_Science_Fiction?page=14')"
   ]
  },
  {
   "cell_type": "code",
   "execution_count": null,
   "metadata": {},
   "outputs": [],
   "source": []
  }
 ],
 "metadata": {
  "kernelspec": {
   "display_name": "Python 3",
   "language": "python",
   "name": "python3"
  },
  "language_info": {
   "codemirror_mode": {
    "name": "ipython",
    "version": 3
   },
   "file_extension": ".py",
   "mimetype": "text/x-python",
   "name": "python",
   "nbconvert_exporter": "python",
   "pygments_lexer": "ipython3",
   "version": "3.6.8"
  }
 },
 "nbformat": 4,
 "nbformat_minor": 2
}
